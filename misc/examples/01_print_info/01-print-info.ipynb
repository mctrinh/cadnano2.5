{
 "cells": [
  {
   "cell_type": "code",
   "execution_count": 2,
   "metadata": {},
   "outputs": [],
   "source": [
    "# Reads a design, prints oligo info, then some strand info.\n",
    "import cadnano\n",
    "from cadnano.document import Document"
   ]
  },
  {
   "cell_type": "code",
   "execution_count": 3,
   "metadata": {},
   "outputs": [
    {
     "name": "stdout",
     "output_type": "stream",
     "text": [
      "reading file design01.json\n"
     ]
    },
    {
     "data": {
      "text/plain": [
       "<cadnano.document.Document at 0x10f2ea240>"
      ]
     },
     "execution_count": 3,
     "metadata": {},
     "output_type": "execute_result"
    }
   ],
   "source": [
    "# Read design\n",
    "app = cadnano.app()\n",
    "doc = app.document = Document()\n",
    "doc.readFile('design01.json')"
   ]
  },
  {
   "cell_type": "code",
   "execution_count": 4,
   "metadata": {},
   "outputs": [],
   "source": [
    "part = doc.activePart()\n",
    "oligos = part.oligos()"
   ]
  },
  {
   "cell_type": "code",
   "execution_count": 5,
   "metadata": {},
   "outputs": [
    {
     "name": "stdout",
     "output_type": "stream",
     "text": [
      "Oligo_(3.0[5])_0096\t21\t'#57bb00'\tNone\n",
      "Oligo_(11.0[2])_4248\t21\t'#57bb00'\tNone\n",
      "Oligo_(4.1[57])_2616\t18\t'#57bb00'\tNone\n",
      "Oligo_(9.0[2])_8648\t21\t'#b8056c'\tNone\n",
      "Oligo_(6.1[53])_5728\t276\t'#03b6a2'\tNone\n",
      "Oligo_(5.0[5])_8048\t21\t'#aaaa00'\tNone\n",
      "Oligo_(12.1[57])_0040\t60\t'#cc0000'\tNone\n",
      "Oligo_(15.0[5])_6416\t74\t'#57bb00'\tNone\n",
      "Oligo_(0.0[21])_6448\t948\t'#0066cc'\tNone\n",
      "Oligo_(1.0[5])_7064\t21\t'#57bb00'\tNone\n",
      "Oligo_(0.1[57])_7024\t60\t'#1700de'\tNone\n",
      "Oligo_(7.0[2])_5656\t21\t'#57bb00'\tNone\n",
      "Oligo_(16.1[57])_4248\t18\t'#57bb00'\tNone\n",
      "Oligo_(10.1[53])_0664\t24\t'#f74308'\tNone\n",
      "Oligo_(17.0[5])_3536\t74\t'#57bb00'\tNone\n",
      "Oligo_(14.1[57])_2200\t18\t'#57bb00'\tNone\n",
      "Oligo_(2.1[57])_8504\t18\t'#57bb00'\tNone\n",
      "Oligo_(5.0[21])_4040\t42\t'#0066cc'\tNone\n",
      "Oligo_(8.1[53])_6808\t24\t'#f7931e'\tNone\n",
      "Oligo_(13.0[5])_8752\t74\t'#007200'\tNone\n",
      "Oligo_(13.0[21])_7184\t42\t'#0066cc'\tNone\n"
     ]
    }
   ],
   "source": [
    "# No sequence gets applied, so oligo.sequence() should return None.\n",
    "for oligo in oligos:\n",
    "    print(\"{0}\\t{1}\\t\\'{2}\\'\\t{3}\".format(oligo, oligo.length(), oligo.getColor(), oligo.sequence()))"
   ]
  },
  {
   "cell_type": "code",
   "execution_count": 6,
   "metadata": {},
   "outputs": [
    {
     "name": "stdout",
     "output_type": "stream",
     "text": [
      "VH0\n",
      "\t <fwd_StrandSet(0)> \t [(5, 20), (21, 57)] \n",
      "\t\t\t\t ['#0066cc', '#0066cc']\n",
      "\t <rev_StrandSet(0)> \t [(5, 20), (21, 41), (42, 57)] \n",
      "\t\t\t\t ['#007200', '#03b6a2', '#1700de']\n",
      "VH1\n",
      "\t <fwd_StrandSet(1)> \t [(5, 13), (14, 20), (21, 34), (35, 41), (42, 48), (49, 57)] \n",
      "\t\t\t\t ['#57bb00', '#007200', '#03b6a2', '#03b6a2', '#1700de', '#57bb00']\n",
      "\t <rev_StrandSet(1)> \t [(5, 32), (33, 57)] \n",
      "\t\t\t\t ['#0066cc', '#0066cc']\n",
      "VH2\n",
      "\t <fwd_StrandSet(2)> \t [(5, 32), (33, 57)] \n",
      "\t\t\t\t ['#0066cc', '#0066cc']\n",
      "\t <rev_StrandSet(2)> \t [(5, 20), (21, 41), (42, 48), (49, 57)] \n",
      "\t\t\t\t ['#57bb00', '#03b6a2', '#1700de', '#57bb00']\n"
     ]
    }
   ],
   "source": [
    "# Print Strand info\n",
    "vhs = list(part.getIdNums())  # convert set to list\n",
    "for vh_id in vhs[:3]:\n",
    "    fwd_ss, rev_ss = part.getStrandSets(vh_id)\n",
    "    print('VH{0}'.format(vh_id))\n",
    "    print('\\t', fwd_ss, '\\t', [s.idxs() for s in fwd_ss.strands()], '\\n\\t\\t\\t\\t',\n",
    "                        [s.getColor() for s in fwd_ss.strands()])\n",
    "    print('\\t', rev_ss, '\\t', [s.idxs() for s in rev_ss.strands()], '\\n\\t\\t\\t\\t',\n",
    "                        [s.getColor() for s in rev_ss.strands()])"
   ]
  },
  {
   "cell_type": "code",
   "execution_count": null,
   "metadata": {},
   "outputs": [],
   "source": []
  },
  {
   "cell_type": "code",
   "execution_count": null,
   "metadata": {},
   "outputs": [],
   "source": []
  }
 ],
 "metadata": {
  "kernelspec": {
   "display_name": "Python 3",
   "language": "python",
   "name": "python3"
  },
  "language_info": {
   "codemirror_mode": {
    "name": "ipython",
    "version": 3
   },
   "file_extension": ".py",
   "mimetype": "text/x-python",
   "name": "python",
   "nbconvert_exporter": "python",
   "pygments_lexer": "ipython3",
   "version": "3.6.5"
  }
 },
 "nbformat": 4,
 "nbformat_minor": 2
}
