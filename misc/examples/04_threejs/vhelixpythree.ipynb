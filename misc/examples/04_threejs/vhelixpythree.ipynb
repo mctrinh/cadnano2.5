{
 "cells": [
  {
   "cell_type": "code",
   "execution_count": 1,
   "metadata": {},
   "outputs": [],
   "source": [
    "import cadnano.bin.cnnbdisplay as cnd\n",
    "from cadnano.document import Document"
   ]
  },
  {
   "cell_type": "code",
   "execution_count": 2,
   "metadata": {},
   "outputs": [
    {
     "name": "stdout",
     "output_type": "stream",
     "text": [
      "Found cadnano version 2 file\n"
     ]
    },
    {
     "data": {
      "application/vnd.jupyter.widget-view+json": {
       "model_id": "f64eb426f5c44d979bfa73d4f325e5a7",
       "version_major": 2,
       "version_minor": 0
      },
      "text/plain": [
       "Renderer(camera=PerspectiveCamera(aspect=1.5, children=(DirectionalLight(color='white', intensity=0.5, positio…"
      ]
     },
     "metadata": {},
     "output_type": "display_data"
    }
   ],
   "source": [
    "doc = cnd.loadFile(\"ex1.json\")\n",
    "part = doc.activePart()\n",
    "cnd.displayVHs(part, camera_z = 30, colors=['lightcyan'])"
   ]
  },
  {
   "cell_type": "code",
   "execution_count": 3,
   "metadata": {},
   "outputs": [
    {
     "data": {
      "application/vnd.jupyter.widget-view+json": {
       "model_id": "20c0766a449848689cf6b4241187e949",
       "version_major": 2,
       "version_minor": 0
      },
      "text/plain": [
       "Renderer(camera=PerspectiveCamera(aspect=1.5, children=(DirectionalLight(color='white', intensity=0.5, positio…"
      ]
     },
     "metadata": {},
     "output_type": "display_data"
    }
   ],
   "source": [
    "doc = Document()\n",
    "part = doc.createNucleicAcidPart(is_lattice=False)\n",
    "vh_points = [\n",
    "            (2, 0, 0, (0, 0, 1.)),\n",
    "            (-2, 0, 0, (0, 0, 1.)),\n",
    "            (0, 2, 0, (0, 0, 1.)),\n",
    "            (-7, -2, 8, (1., 0, 0))\n",
    "]\n",
    "for item in vh_points:\n",
    "    x, y, z, direction = item\n",
    "    part.createVirtualHelix(x, y, z, direction=direction)\n",
    "cnd.displayVHs(part, camera_z=20, colors=['hotpink'])"
   ]
  },
  {
   "cell_type": "code",
   "execution_count": null,
   "metadata": {},
   "outputs": [],
   "source": []
  }
 ],
 "metadata": {
  "kernelspec": {
   "display_name": "Python 3",
   "language": "python",
   "name": "python3"
  },
  "language_info": {
   "codemirror_mode": {
    "name": "ipython",
    "version": 3
   },
   "file_extension": ".py",
   "mimetype": "text/x-python",
   "name": "python",
   "nbconvert_exporter": "python",
   "pygments_lexer": "ipython3",
   "version": "3.6.5"
  }
 },
 "nbformat": 4,
 "nbformat_minor": 2
}
